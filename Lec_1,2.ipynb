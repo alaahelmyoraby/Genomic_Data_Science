{
 "cells": [
  {
   "cell_type": "code",
   "execution_count": null,
   "id": "7dc17c5f",
   "metadata": {},
   "outputs": [],
   "source": [
    "#!/usr/bin/python"
   ]
  },
  {
   "cell_type": "code",
   "execution_count": 1,
   "id": "45917f14",
   "metadata": {},
   "outputs": [
    {
     "name": "stdout",
     "output_type": "stream",
     "text": [
      "The DNA sequence’s GC content is 53.061 %\n"
     ]
    }
   ],
   "source": [
    "dna = 'acgctcgcgcggcgatagctgatcgatcggcgcgctttttttttaaaag'\n",
    "\"\"\"\n",
    "This is my first Python program.\n",
    "It computes the GC content of a DNA sequence.\n",
    "\"\"\"\n",
    "no_c=dna.count('c')\n",
    "no_g=dna.count('g')\n",
    "dna_length=len(dna)\n",
    "gc_percent=(no_c+no_g)*100/dna_length\n",
    "print(\"The DNA sequence’s GC content is %5.3f %%\" % gc_percent)"
   ]
  },
  {
   "cell_type": "code",
   "execution_count": 2,
   "id": "80eb8c00",
   "metadata": {},
   "outputs": [
    {
     "name": "stdout",
     "output_type": "stream",
     "text": [
      "10\n",
      " 10\n",
      "12\n",
      "acgctcgcgcggcgatagctgatcgatcggcgcgctttttttttaaaag\n"
     ]
    },
    {
     "data": {
      "text/plain": [
       "False"
      ]
     },
     "execution_count": 2,
     "metadata": {},
     "output_type": "execute_result"
    }
   ],
   "source": [
    "##########Practice##################\n",
    "print(\"%d\" % 10.6)\n",
    "print(\"%3d\" % 10.6)\n",
    "print(\"%o\"% 10)\n",
    "print(\"%s\" % dna)\n",
    "\n",
    "alphabet=[\"a\",\"c\",\"g\",\"t\"]\n",
    "newalphabet=alphabet[:]\n",
    "alphabet == newalphabet\n",
    "alphabet is newalphabet\n",
    "\n"
   ]
  },
  {
   "cell_type": "code",
   "execution_count": 1,
   "id": "3d045569",
   "metadata": {},
   "outputs": [
    {
     "name": "stdout",
     "output_type": "stream",
     "text": [
      "Enter DNA sequence:ggggggggggggggcccccccctttnn\n",
      "dna sequence has 2 undefined bases \n"
     ]
    }
   ],
   "source": [
    "dna=input('Enter DNA sequence:')\n",
    "if 'n' in dna :\n",
    "    nbases=dna.count('n')\n",
    "print(\"dna sequence has %d undefined bases \" % nbases)"
   ]
  },
  {
   "cell_type": "code",
   "execution_count": 2,
   "id": "d9217757",
   "metadata": {},
   "outputs": [
    {
     "name": "stdout",
     "output_type": "stream",
     "text": [
      "all\n"
     ]
    }
   ],
   "source": [
    "print('all')"
   ]
  },
  {
   "cell_type": "code",
   "execution_count": 3,
   "id": "3e7af8c8",
   "metadata": {},
   "outputs": [
    {
     "data": {
      "text/plain": [
       "True"
      ]
     },
     "execution_count": 3,
     "metadata": {},
     "output_type": "execute_result"
    }
   ],
   "source": [
    "0<1"
   ]
  },
  {
   "cell_type": "code",
   "execution_count": null,
   "id": "2af3c120",
   "metadata": {},
   "outputs": [],
   "source": [
    "dna=input('Enter DNA sequence:')\n",
    "if 'n' in dna :\n",
    "    print(\"dna sequence has undefined bases \")\n",
    "elif \"N\" in dna :\n",
    "    print(\"dna sequence has undefined bases \")\n",
    "else:\n",
    "    print(\"dna sequence has no undefined bases\")\n",
    "    \n",
    "#OR\n",
    "dna=input('Enter DNA sequence:')\n",
    "if 'n' in dna or \"N\" in dna:\n",
    "    nbases=dna.count('n')+dna.count(\"N\")\n",
    "    print(\"dna sequence has %d undefined bases \" % nbases)\n",
    "else:\n",
    "    print(\"dna sequence has no undefined bases\")"
   ]
  },
  {
   "cell_type": "code",
   "execution_count": null,
   "id": "d2af2779",
   "metadata": {},
   "outputs": [],
   "source": []
  },
  {
   "cell_type": "code",
   "execution_count": null,
   "id": "8d5a5fad",
   "metadata": {},
   "outputs": [],
   "source": []
  },
  {
   "cell_type": "code",
   "execution_count": null,
   "id": "74ecfa88",
   "metadata": {},
   "outputs": [],
   "source": []
  }
 ],
 "metadata": {
  "kernelspec": {
   "display_name": "Python 3 (ipykernel)",
   "language": "python",
   "name": "python3"
  },
  "language_info": {
   "codemirror_mode": {
    "name": "ipython",
    "version": 3
   },
   "file_extension": ".py",
   "mimetype": "text/x-python",
   "name": "python",
   "nbconvert_exporter": "python",
   "pygments_lexer": "ipython3",
   "version": "3.11.4"
  }
 },
 "nbformat": 4,
 "nbformat_minor": 5
}
