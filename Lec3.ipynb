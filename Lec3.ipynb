{
 "cells": [
  {
   "cell_type": "code",
   "execution_count": null,
   "id": "5a390200",
   "metadata": {},
   "outputs": [],
   "source": [
    "####find seq\n",
    "dna=input('EnterDNA seq')\n",
    "pos=dna.find('gt',0)\n",
    "while pos>-1:\n",
    "    print('Donor splice site candidate at position  %d' %pos)\n",
    "    pos=dna.find('gt',pos+1)"
   ]
  },
  {
   "cell_type": "code",
   "execution_count": 13,
   "id": "fab9d1cd",
   "metadata": {},
   "outputs": [
    {
     "name": "stdout",
     "output_type": "stream",
     "text": [
      "attccgt 7\n",
      "agggggtttttcg 13\n",
      "gtagc 5\n"
     ]
    }
   ],
   "source": [
    "#####find moyif in list\n",
    "Motif=[\"attccgt\",\"agggggtttttcg\",\"gtagc\"]\n",
    "for motif in Motif:\n",
    "    print(motif,len(motif))"
   ]
  },
  {
   "cell_type": "code",
   "execution_count": 17,
   "id": "338a3171",
   "metadata": {},
   "outputs": [
    {
     "name": "stdout",
     "output_type": "stream",
     "text": [
      "Protein contain aminoacid U at position 8\n",
      "Protein contain aminoacid U at position 9\n",
      "Protein contain aminoacid J at position 20\n"
     ]
    }
   ],
   "source": [
    "Protein='SDVIHRYKUUPAKSHGWYVCJRSRFTWMVWWRFRSCRA'\n",
    "for i in range(len(Protein)):\n",
    "    if Protein[i] not in 'ABCDEFGHIKLMNPQRSTVWXYZ':\n",
    "        print(\"Protein contain aminoacid %s at position %d\" %(Protein[i],i))"
   ]
  },
  {
   "cell_type": "code",
   "execution_count": 25,
   "id": "b8c6850f",
   "metadata": {},
   "outputs": [
    {
     "name": "stdout",
     "output_type": "stream",
     "text": [
      "Protein Not valid\n",
      "Protein Not valid\n",
      "Protein Not valid\n"
     ]
    }
   ],
   "source": [
    "Protein='SDVIHRYKUUPAKSHGWYVCJRSRFTWMVWWRFRSCRA'\n",
    "for i in range(len(Protein)):\n",
    "    if Protein[i] not in 'ABCDEFGHIKLMNPQRSTVWXYZ':\n",
    "        print(\"Protein Not valid\")"
   ]
  },
  {
   "cell_type": "code",
   "execution_count": 24,
   "id": "89649d34",
   "metadata": {},
   "outputs": [
    {
     "name": "stdout",
     "output_type": "stream",
     "text": [
      "Protein Not valid\n"
     ]
    }
   ],
   "source": [
    "##to print once use break\n",
    "Protein='SDVIHRYKUUPAKSHGWYVCJRSRFTWMVWWRFRSCRA'\n",
    "for i in range(len(Protein)):\n",
    "    if Protein[i] not in 'ABCDEFGHIKLMNPQRSTVWXYZ':\n",
    "        print(\"Protein Not valid\")\n",
    "        break"
   ]
  },
  {
   "cell_type": "code",
   "execution_count": 35,
   "id": "ddaff4d8",
   "metadata": {},
   "outputs": [
    {
     "name": "stdout",
     "output_type": "stream",
     "text": [
      "corrected protein seq is SDVIHRYKPAKSHGWYVCRSRFTWMVWWRFRSCRA\n",
      "corrected protein seq is SDVIHRYKPAKSHGWYVCRSRFTWMVWWRFRSCRA\n"
     ]
    }
   ],
   "source": [
    "protein='SDVIHRYKUUPAKSHGWYVCJRSRFTWMVWWRFRSCRA'\n",
    "corrected_protein=''\n",
    "for i in range(len(protein)):\n",
    "    if protein[i] not in  'ABCDEFGHIKLMNPQRSTVWXYZ':\n",
    "        continue\n",
    "    corrected_protein=corrected_protein +protein[i]\n",
    "print('corrected protein seq is %s' %corrected_protein)\n",
    "print('corrected protein seq is' , corrected_protein)"
   ]
  },
  {
   "cell_type": "code",
   "execution_count": 40,
   "id": "d6639089",
   "metadata": {},
   "outputs": [
    {
     "name": "stdout",
     "output_type": "stream",
     "text": [
      "*\n",
      "**\n",
      "***\n",
      "****\n",
      "*****\n",
      "******\n",
      "*******\n",
      "********\n",
      "*********\n",
      "**********\n",
      "***********\n",
      "************\n",
      "*************\n",
      "**************\n",
      "***************\n",
      "****************\n",
      "*****************\n",
      "******************\n",
      "*******************\n",
      "********************\n",
      "*********************\n",
      "**********************\n",
      "***********************\n",
      "************************\n",
      "*************************\n",
      "**************************\n",
      "***************************\n",
      "****************************\n",
      "*****************************\n",
      "******************************\n",
      "*******************************\n",
      "********************************\n",
      "*********************************\n",
      "**********************************\n",
      "***********************************\n",
      "************************************\n",
      "*************************************\n",
      "**************************************\n",
      "***************************************\n"
     ]
    }
   ],
   "source": [
    "######for application\n",
    "astric='***************************************'\n",
    "asric_all=''\n",
    "for i in range(len(astric)):\n",
    "    asric_all=asric_all+astric[i]\n",
    "    print( asric_all)"
   ]
  },
  {
   "cell_type": "code",
   "execution_count": 50,
   "id": "65a57692",
   "metadata": {},
   "outputs": [
    {
     "name": "stdout",
     "output_type": "stream",
     "text": [
      "4 equals 2 * 2\n",
      "6 equals 2 * 3\n",
      "8 equals 2 * 4\n",
      "9 equals 3 * 3\n"
     ]
    }
   ],
   "source": [
    "N=10\n",
    "for y in range(2, N):\n",
    "    for x in range(2,y):\n",
    "        if y % x == 0:\n",
    "            print(y, 'equals', x, '*', y//x)\n",
    "            break"
   ]
  },
  {
   "cell_type": "code",
   "execution_count": 57,
   "id": "c3f84dda",
   "metadata": {},
   "outputs": [
    {
     "data": {
      "text/plain": [
       "3"
      ]
     },
     "execution_count": 57,
     "metadata": {},
     "output_type": "execute_result"
    }
   ],
   "source": [
    "x=3\n",
    "y=11\n",
    "y//x"
   ]
  },
  {
   "cell_type": "code",
   "execution_count": 70,
   "id": "6737c5a7",
   "metadata": {},
   "outputs": [
    {
     "name": "stdout",
     "output_type": "stream",
     "text": [
      "INCLUDED\n"
     ]
    }
   ],
   "source": [
    "Motif=\"agggggtttttcg\"\n",
    "dna=\"AAAAAAAAAAAAagggggtttttcgTTTTTTTTTTTTT\"\n",
    "if Motif not in dna:\n",
    "    pass\n",
    "else:\n",
    "    print('INCLUDED')"
   ]
  },
  {
   "cell_type": "code",
   "execution_count": null,
   "id": "9deb6fa7",
   "metadata": {},
   "outputs": [],
   "source": []
  },
  {
   "cell_type": "code",
   "execution_count": null,
   "id": "0379838a",
   "metadata": {},
   "outputs": [],
   "source": []
  }
 ],
 "metadata": {
  "kernelspec": {
   "display_name": "Python 3 (ipykernel)",
   "language": "python",
   "name": "python3"
  },
  "language_info": {
   "codemirror_mode": {
    "name": "ipython",
    "version": 3
   },
   "file_extension": ".py",
   "mimetype": "text/x-python",
   "name": "python",
   "nbconvert_exporter": "python",
   "pygments_lexer": "ipython3",
   "version": "3.11.4"
  }
 },
 "nbformat": 4,
 "nbformat_minor": 5
}
