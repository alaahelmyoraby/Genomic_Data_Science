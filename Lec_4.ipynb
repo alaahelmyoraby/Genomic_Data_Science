{
 "cells": [
  {
   "cell_type": "code",
   "execution_count": 13,
   "id": "861ba71b",
   "metadata": {},
   "outputs": [
    {
     "name": "stdout",
     "output_type": "stream",
     "text": [
      "['Lif', 5.16e-08, 0.000138511, 7.33e-08]\n",
      "[5.16e-08, 0.000138511, 7.33e-08]\n",
      "['Lif', 6.09e-07, 7.33e-08]\n"
     ]
    }
   ],
   "source": [
    "# change in list Unlike\tstrings,which are immutable,lists are mutable\n",
    "gene_expression=['gene',5.16e-08, 0.000138511, 7.33e-08]\n",
    "gene_expression[0]='Lif'\n",
    "print(gene_expression)\n",
    "print(gene_expression[-3:])\n",
    "gene_expression[1:3]=[6.09e-07]\n",
    "print(gene_expression) #replace po 1,2 with this"
   ]
  },
  {
   "cell_type": "code",
   "execution_count": 23,
   "id": "b18133ee",
   "metadata": {},
   "outputs": [
    {
     "name": "stdout",
     "output_type": "stream",
     "text": [
      "['Lif', 6.09e-07, 7.33e-08, 5.16e-08, 0.000138511, 5.16e-08, 0.000138511, 5.16e-08, 0.000138511, 5.16e-08, 0.000138511]\n",
      "[]\n",
      "[5.16e-08, 0.000138511]\n",
      "0\n"
     ]
    }
   ],
   "source": [
    "print(gene_expression)\n",
    "gene_expression[:]=[] # this clears the list\n",
    "print(gene_expression)\n",
    "print(gene_expression+[5.16e-08, 0.000138511])  #add again to the list\n",
    "print(len(gene_expression)) #not added"
   ]
  },
  {
   "cell_type": "code",
   "execution_count": 24,
   "id": "a43b8e51",
   "metadata": {},
   "outputs": [
    {
     "name": "stdout",
     "output_type": "stream",
     "text": [
      "[5.16e-08, 0.000138511]\n",
      "2\n",
      "[5.16e-08, 0.000138511]\n",
      "2\n"
     ]
    }
   ],
   "source": [
    "#to_add\n",
    "new_one=gene_expression+[5.16e-08, 0.000138511]\n",
    "print(new_one)\n",
    "print(len(new_one)) #added\n",
    "\n",
    "#OR\n",
    "gene_expression.extend([5.16e-08, 0.000138511])\n",
    "print(gene_expression)\n",
    "print(len(gene_expression)) #added\n",
    "\n"
   ]
  },
  {
   "cell_type": "code",
   "execution_count": 25,
   "id": "127be469",
   "metadata": {},
   "outputs": [
    {
     "name": "stdout",
     "output_type": "stream",
     "text": [
      "[5.16e-08]\n"
     ]
    }
   ],
   "source": [
    "del new_one[1]\n",
    "print(new_one)   #element two deteted"
   ]
  },
  {
   "cell_type": "code",
   "execution_count": 40,
   "id": "913ead36",
   "metadata": {},
   "outputs": [
    {
     "name": "stdout",
     "output_type": "stream",
     "text": [
      "1 0\n",
      "None\n"
     ]
    }
   ],
   "source": [
    "NUM=['Lif', 7.33e-08, 5.16e-08, 0.000138511]\n",
    "print(NUM.count('Lif'),NUM.count('gene'))\n",
    "print(NUM.reverse()) #doent use print"
   ]
  },
  {
   "cell_type": "code",
   "execution_count": 38,
   "id": "86700d5c",
   "metadata": {},
   "outputs": [
    {
     "data": {
      "text/plain": [
       "['e', 'd', 'c', 'b', 'a']"
      ]
     },
     "execution_count": 38,
     "metadata": {},
     "output_type": "execute_result"
    }
   ],
   "source": [
    "stack=['a','b','c','d']\n",
    "stack.append('e')\n",
    "stack.reverse()\n",
    "stack"
   ]
  },
  {
   "cell_type": "code",
   "execution_count": 50,
   "id": "dd77e394",
   "metadata": {},
   "outputs": [
    {
     "data": {
      "text/plain": [
       "[3, 31, 123, 1, 5]"
      ]
     },
     "execution_count": 50,
     "metadata": {},
     "output_type": "execute_result"
    }
   ],
   "source": [
    "mylist=[3,31,123,1,5]\n",
    "sorted(mylist)\n",
    "mylist  #not sorted"
   ]
  },
  {
   "cell_type": "code",
   "execution_count": 47,
   "id": "28c38d75",
   "metadata": {},
   "outputs": [
    {
     "data": {
      "text/plain": [
       "[1, 3, 5, 31, 123]"
      ]
     },
     "execution_count": 47,
     "metadata": {},
     "output_type": "execute_result"
    }
   ],
   "source": [
    "mylist=[3,31,123,1,5]\n",
    "mylist.sort()\n",
    "mylist  #sorted"
   ]
  },
  {
   "cell_type": "code",
   "execution_count": 52,
   "id": "63284614",
   "metadata": {},
   "outputs": [
    {
     "data": {
      "text/plain": [
       "['c', 'g', 'T', 'a', 'A']"
      ]
     },
     "execution_count": 52,
     "metadata": {},
     "output_type": "execute_result"
    }
   ],
   "source": [
    "mylist=['c','g','T','a','A']\n",
    "sorted(mylist)\n",
    "mylist"
   ]
  },
  {
   "cell_type": "code",
   "execution_count": 53,
   "id": "c81b9c33",
   "metadata": {},
   "outputs": [
    {
     "data": {
      "text/plain": [
       "['A', 'T', 'a', 'c', 'g']"
      ]
     },
     "execution_count": 53,
     "metadata": {},
     "output_type": "execute_result"
    }
   ],
   "source": [
    "mylist=['c','g','T','a','A']\n",
    "mylist.sort()\n",
    "mylist"
   ]
  },
  {
   "cell_type": "code",
   "execution_count": null,
   "id": "14d5faff",
   "metadata": {},
   "outputs": [],
   "source": [
    "                                                     #tuples\n",
    "'''\n",
    "We may input tuples may with or without surrounding parentheses\n",
    "while lists are mutable, tuples are immutable\n",
    "'''"
   ]
  },
  {
   "cell_type": "code",
   "execution_count": 55,
   "id": "ac54130d",
   "metadata": {},
   "outputs": [
    {
     "data": {
      "text/plain": [
       "(1, 2, 3)"
      ]
     },
     "execution_count": 55,
     "metadata": {},
     "output_type": "execute_result"
    }
   ],
   "source": [
    "t=1,2,3\n",
    "t"
   ]
  },
  {
   "cell_type": "code",
   "execution_count": null,
   "id": "9ac2a7cd",
   "metadata": {},
   "outputs": [],
   "source": [
    "                                                   #SETS\n",
    "'''\n",
    "set\tis an unordered\tcollection with\tno duplicate elements. \n",
    "Set objects support\tmathematical operations like union,\n",
    "intersection, and difference.\n",
    "'''"
   ]
  },
  {
   "cell_type": "code",
   "execution_count": 57,
   "id": "98705ea2",
   "metadata": {},
   "outputs": [
    {
     "data": {
      "text/plain": [
       "{'DNA binding',\n",
       " 'DNA repair',\n",
       " 'protein ubiquitination',\n",
       " 'ubiquitin-protein transferase activity',\n",
       " 'zinc ion binding'}"
      ]
     },
     "execution_count": 57,
     "metadata": {},
     "output_type": "execute_result"
    }
   ],
   "source": [
    "brca1={'DNA repair','zinc ion binding','DNA binding','ubiquitin-protein transferase activity',\n",
    "       'DNA repair','protein ubiquitination'}\n",
    "brca1  #note the removal of repeated DNA repair and the order"
   ]
  },
  {
   "cell_type": "code",
   "execution_count": 67,
   "id": "f0d1fdce",
   "metadata": {},
   "outputs": [
    {
     "data": {
      "text/plain": [
       "{'DNA repair',\n",
       " 'H4 histone acetyltransferase activity',\n",
       " 'double-strand_break',\n",
       " 'nucleoplasm',\n",
       " 'protein binding',\n",
       " 'repair',\n",
       " 'repair via homologous recombination'}"
      ]
     },
     "execution_count": 67,
     "metadata": {},
     "output_type": "execute_result"
    }
   ],
   "source": [
    "brca2={'protein binding','H4 histone acetyltransferase activity',\n",
    "       'nucleoplasm', 'DNA repair','double-strand_break', 'repair', 'double-strand_break' ,\n",
    "       'repair via homologous recombination'}\n",
    "brca2"
   ]
  },
  {
   "cell_type": "code",
   "execution_count": 69,
   "id": "3d5c4d47",
   "metadata": {},
   "outputs": [
    {
     "name": "stdout",
     "output_type": "stream",
     "text": [
      "{'DNA repair'}\n"
     ]
    }
   ],
   "source": [
    "print(brca1 & brca2)  #intersection"
   ]
  },
  {
   "cell_type": "code",
   "execution_count": 70,
   "id": "13ab4ebd",
   "metadata": {},
   "outputs": [
    {
     "name": "stdout",
     "output_type": "stream",
     "text": [
      "{'H4 histone acetyltransferase activity', 'zinc ion binding', 'protein binding', 'double-strand_break', 'repair via homologous recombination', 'nucleoplasm', 'repair', 'DNA binding', 'ubiquitin-protein transferase activity', 'protein ubiquitination', 'DNA repair'}\n"
     ]
    }
   ],
   "source": [
    "print(brca1 | brca2)   # Union"
   ]
  },
  {
   "cell_type": "code",
   "execution_count": 73,
   "id": "00a8db4c",
   "metadata": {},
   "outputs": [
    {
     "name": "stdout",
     "output_type": "stream",
     "text": [
      "{'DNA binding', 'protein ubiquitination', 'zinc ion binding', 'ubiquitin-protein transferase activity'}\n",
      "{'H4 histone acetyltransferase activity', 'protein binding', 'double-strand_break', 'repair via homologous recombination', 'nucleoplasm', 'repair'}\n"
     ]
    }
   ],
   "source": [
    "print(brca1 - brca2)  #in 1 but not in 2\n",
    "print(brca2 - brca1)   #in 2 but not in 1"
   ]
  },
  {
   "cell_type": "code",
   "execution_count": 11,
   "id": "17d1126f",
   "metadata": {},
   "outputs": [
    {
     "name": "stdout",
     "output_type": "stream",
     "text": [
      "The recognition sequence for the ATF transcription is tgacgtca\n",
      "The recognition sequence for the ATF transcription is  tgacgtca\n",
      "{'SP1': 'gggcgg', 'C/EBP': 'attgcgcaat', 'ATF': 'tgacgtca', 'c-Myc': 'cacgtg', 'Oct-1': 'atgcaaat', 'AP-1': 'tgagtca'}\n",
      "{'SP1': 'gggcgg', 'C/EBP': 'attgcgcaat', 'ATF': 'tgacgtca', 'c-Myc': 'cacgtg', 'Oct-1': 'atgcaaat', 'AP-1': 'tga(g/c)tca'}\n",
      "{'C/EBP': 'attgcgcaat', 'ATF': 'tgacgtca', 'c-Myc': 'cacgtg', 'Oct-1': 'atgcaaat', 'AP-1': 'tga(g/c)tca'}\n",
      "{'C/EBP': 'attgcgcaat', 'ATF': 'tgacgtca', 'c-Myc': 'cacgtg', 'Oct-1': 'atgcaaa', 'AP-1': 'tga(g/c)tca', 'SP1': 'gggcgg'}\n",
      "6\n",
      "['C/EBP', 'ATF', 'c-Myc', 'Oct-1', 'AP-1', 'SP1']\n",
      "['attgcgcaat', 'tgacgtca', 'cacgtg', 'atgcaaa', 'tga(g/c)tca', 'gggcgg']\n",
      "['AP-1', 'ATF', 'C/EBP', 'Oct-1', 'SP1', 'c-Myc']\n",
      "['atgcaaa', 'attgcgcaat', 'cacgtg', 'gggcgg', 'tga(g/c)tca', 'tgacgtca']\n"
     ]
    }
   ],
   "source": [
    "#Dic\n",
    "TF_motif={'SP1' : 'gggcgg', 'C/EBP':'attgcgcaat',\n",
    "'ATF':'tgacgtca','c-Myc':'cacgtg','Oct-1':'atgcaaat'}\n",
    "print(\"The recognition sequence for the ATF transcription is %s\" % TF_motif['ATF'])\n",
    "print(\"The recognition sequence for the ATF transcription is \", TF_motif['ATF'])\n",
    "\n",
    "#add value\n",
    "TF_motif['AP-1']='tgagtca'\n",
    "print(TF_motif)\n",
    "TF_motif['AP-1']='tga(g/c)tca'\n",
    "print(TF_motif)\n",
    "del TF_motif['SP1']\n",
    "print(TF_motif)\n",
    "\n",
    "#update\n",
    "TF_motif.update({'SP1': 'gggcgg', 'C/EBP': 'attgcgcaat','Oct-1': 'atgcaaa'})\n",
    "print(TF_motif) # Add'SP1': 'gggcgg'\n",
    "print(len(TF_motif))\n",
    "\n",
    "# list\n",
    "\n",
    "print(list(TF_motif.keys()))\n",
    "print(list(TF_motif.values()))\n",
    "\n",
    "#sorted\n",
    "\n",
    "print(sorted(TF_motif.keys()))\n",
    "print(sorted(TF_motif.values()))\n"
   ]
  },
  {
   "cell_type": "code",
   "execution_count": null,
   "id": "57657979",
   "metadata": {},
   "outputs": [],
   "source": []
  },
  {
   "cell_type": "code",
   "execution_count": null,
   "id": "7cff2983",
   "metadata": {},
   "outputs": [],
   "source": []
  }
 ],
 "metadata": {
  "kernelspec": {
   "display_name": "Python 3 (ipykernel)",
   "language": "python",
   "name": "python3"
  },
  "language_info": {
   "codemirror_mode": {
    "name": "ipython",
    "version": 3
   },
   "file_extension": ".py",
   "mimetype": "text/x-python",
   "name": "python",
   "nbconvert_exporter": "python",
   "pygments_lexer": "ipython3",
   "version": "3.11.4"
  }
 },
 "nbformat": 4,
 "nbformat_minor": 5
}
